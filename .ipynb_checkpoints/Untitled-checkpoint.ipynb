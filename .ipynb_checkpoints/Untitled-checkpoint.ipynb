{
 "cells": [
  {
   "cell_type": "code",
   "execution_count": 23,
   "id": "f36b3ea8",
   "metadata": {},
   "outputs": [
    {
     "name": "stdout",
     "output_type": "stream",
     "text": [
      "   su_risk_p_1  su_risk_p_2_3  su_risk_p_4_5  neighborhood1_2_3_p  \\\n",
      "1     3.424975      -0.506750      -0.517494             3.657723   \n",
      "2    -0.509885       0.626155      -0.622854             4.398132   \n",
      "3     1.469537      -0.033439       0.043153             3.615733   \n",
      "4     2.295287      -0.242683       0.545533             3.600843   \n",
      "5     0.621941      -0.337195      -0.376979             4.063243   \n",
      "\n",
      "   neighborhood_crime_y  y  \n",
      "1              5.048078  0  \n",
      "2              3.386884  0  \n",
      "3              4.459913  0  \n",
      "4              1.940127  0  \n",
      "5              3.495624  0  \n"
     ]
    }
   ],
   "source": [
    "from helper import *\n",
    "import statsmodels.formula.api as smf\n",
    "import statsmodels.api as sm\n",
    "from sklearn.metrics import (confusion_matrix, \n",
    "                           accuracy_score)\n",
    "\n",
    "col = [\"neighbor\"]\n",
    "df = preprosessing(col, size=5000)\n",
    "# df = pd.get_dummies(df, columns=['sex'], drop_first=True)\n",
    "\n",
    "# ytrain = df[['y']]\n",
    "# Xtrain = df.drop('y', axis=1)\n",
    "# Xtrain = sm.add_constant(Xtrain)\n",
    "# log_reg = sm.Logit(ytrain, Xtrain).fit()\n",
    "print(df.head(5))\n",
    "# log_reg = sm.formula.glm(\"y ~ su_risk_p_1+su_risk_p_2_3+su_risk_p_4_5+neighborhood1_2_3_p+neighborhood_crime_y\",  \n",
    "# family=sm.families.Binomial(), data=df).fit() \n",
    "# print(log_reg.summary())\n",
    "\n",
    "# df = preprosessing(col, orginal=True)\n",
    "# # df = pd.get_dummies(df, columns=['sex'], drop_first=True)\n",
    "\n",
    "# ytest = df[['y']]\n",
    "# Xtest = df.drop('y', axis=1)\n",
    "# Xtest = sm.add_constant(Xtest)\n",
    "\n",
    "# yhat = log_reg.predict(Xtest)\n",
    "# prediction = list(map(round, yhat))\n",
    " \n",
    "# # confusion matrix\n",
    "# cm = confusion_matrix(ytest, prediction) \n",
    "# print (\"Confusion Matrix : \\n\", cm) \n",
    "# # accuracy score of the model\n",
    "# print('Test accuracy = ', accuracy_score(ytest, prediction))\n",
    "\n"
   ]
  },
  {
   "cell_type": "code",
   "execution_count": 21,
   "id": "42edaa8e",
   "metadata": {},
   "outputs": [
    {
     "name": "stderr",
     "output_type": "stream",
     "text": [
      "/var/folders/k5/cr7j5c4x0hxgb876c543f9qr0000gn/T/ipykernel_38197/4249162323.py:4: ParserWarning: Falling back to the 'python' engine because the 'c' engine does not support regex separators (separators > 1 char and different from '\\s+' are interpreted as regex); you can avoid this warning by specifying engine='python'.\n",
      "  cuse = pd.read_table(\"http://data.princeton.edu/wws509/datasets/cuse.dat\",\n"
     ]
    },
    {
     "data": {
      "text/html": [
       "<table class=\"simpletable\">\n",
       "<caption>Generalized Linear Model Regression Results</caption>\n",
       "<tr>\n",
       "  <th>Dep. Variable:</th>   <td>['using', 'notUsing']</td> <th>  No. Observations:  </th>  <td>    16</td> \n",
       "</tr>\n",
       "<tr>\n",
       "  <th>Model:</th>                    <td>GLM</td>          <th>  Df Residuals:      </th>  <td>    10</td> \n",
       "</tr>\n",
       "<tr>\n",
       "  <th>Model Family:</th>          <td>Binomial</td>        <th>  Df Model:          </th>  <td>     5</td> \n",
       "</tr>\n",
       "<tr>\n",
       "  <th>Link Function:</th>           <td>Logit</td>         <th>  Scale:             </th> <td>  1.0000</td>\n",
       "</tr>\n",
       "<tr>\n",
       "  <th>Method:</th>                  <td>IRLS</td>          <th>  Log-Likelihood:    </th> <td> -50.713</td>\n",
       "</tr>\n",
       "<tr>\n",
       "  <th>Date:</th>              <td>Fri, 10 Jun 2022</td>    <th>  Deviance:          </th> <td>  29.917</td>\n",
       "</tr>\n",
       "<tr>\n",
       "  <th>Time:</th>                  <td>18:40:39</td>        <th>  Pearson chi2:      </th>  <td>  28.3</td> \n",
       "</tr>\n",
       "<tr>\n",
       "  <th>No. Iterations:</th>            <td>5</td>           <th>  Pseudo R-squ. (CS):</th>  <td>0.9998</td> \n",
       "</tr>\n",
       "<tr>\n",
       "  <th>Covariance Type:</th>       <td>nonrobust</td>       <th>                     </th>     <td> </td>   \n",
       "</tr>\n",
       "</table>\n",
       "<table class=\"simpletable\">\n",
       "<tr>\n",
       "                  <td></td>                     <th>coef</th>     <th>std err</th>      <th>z</th>      <th>P>|z|</th>  <th>[0.025</th>    <th>0.975]</th>  \n",
       "</tr>\n",
       "<tr>\n",
       "  <th>Intercept</th>                         <td>   -0.8082</td> <td>    0.159</td> <td>   -5.083</td> <td> 0.000</td> <td>   -1.120</td> <td>   -0.497</td>\n",
       "</tr>\n",
       "<tr>\n",
       "  <th>C(age, Treatment('<25'))[T.25-29]</th> <td>    0.3894</td> <td>    0.176</td> <td>    2.214</td> <td> 0.027</td> <td>    0.045</td> <td>    0.734</td>\n",
       "</tr>\n",
       "<tr>\n",
       "  <th>C(age, Treatment('<25'))[T.30-39]</th> <td>    0.9086</td> <td>    0.165</td> <td>    5.519</td> <td> 0.000</td> <td>    0.586</td> <td>    1.231</td>\n",
       "</tr>\n",
       "<tr>\n",
       "  <th>C(age, Treatment('<25'))[T.40-49]</th> <td>    1.1892</td> <td>    0.214</td> <td>    5.546</td> <td> 0.000</td> <td>    0.769</td> <td>    1.610</td>\n",
       "</tr>\n",
       "<tr>\n",
       "  <th>education[T.low]</th>                  <td>   -0.3250</td> <td>    0.124</td> <td>   -2.620</td> <td> 0.009</td> <td>   -0.568</td> <td>   -0.082</td>\n",
       "</tr>\n",
       "<tr>\n",
       "  <th>wantsMore[T.yes]</th>                  <td>   -0.8330</td> <td>    0.117</td> <td>   -7.091</td> <td> 0.000</td> <td>   -1.063</td> <td>   -0.603</td>\n",
       "</tr>\n",
       "</table>"
      ],
      "text/plain": [
       "<class 'statsmodels.iolib.summary.Summary'>\n",
       "\"\"\"\n",
       "                   Generalized Linear Model Regression Results                   \n",
       "=================================================================================\n",
       "Dep. Variable:     ['using', 'notUsing']   No. Observations:                   16\n",
       "Model:                               GLM   Df Residuals:                       10\n",
       "Model Family:                   Binomial   Df Model:                            5\n",
       "Link Function:                     Logit   Scale:                          1.0000\n",
       "Method:                             IRLS   Log-Likelihood:                -50.713\n",
       "Date:                   Fri, 10 Jun 2022   Deviance:                       29.917\n",
       "Time:                           18:40:39   Pearson chi2:                     28.3\n",
       "No. Iterations:                        5   Pseudo R-squ. (CS):             0.9998\n",
       "Covariance Type:               nonrobust                                         \n",
       "=====================================================================================================\n",
       "                                        coef    std err          z      P>|z|      [0.025      0.975]\n",
       "-----------------------------------------------------------------------------------------------------\n",
       "Intercept                            -0.8082      0.159     -5.083      0.000      -1.120      -0.497\n",
       "C(age, Treatment('<25'))[T.25-29]     0.3894      0.176      2.214      0.027       0.045       0.734\n",
       "C(age, Treatment('<25'))[T.30-39]     0.9086      0.165      5.519      0.000       0.586       1.231\n",
       "C(age, Treatment('<25'))[T.40-49]     1.1892      0.214      5.546      0.000       0.769       1.610\n",
       "education[T.low]                     -0.3250      0.124     -2.620      0.009      -0.568      -0.082\n",
       "wantsMore[T.yes]                     -0.8330      0.117     -7.091      0.000      -1.063      -0.603\n",
       "=====================================================================================================\n",
       "\"\"\""
      ]
     },
     "execution_count": 21,
     "metadata": {},
     "output_type": "execute_result"
    }
   ],
   "source": [
    "import pandas as pd\n",
    "import statsmodels.api as sm\n",
    "\n",
    "cuse = pd.read_table(\"http://data.princeton.edu/wws509/datasets/cuse.dat\",\n",
    "                     sep=\" +\")\n",
    "res = sm.formula.glm(\"using + notUsing ~ C(age, Treatment('<25')) + \"\n",
    "                     \"education + wantsMore\",  family=sm.families.Binomial(), \n",
    "                     data=cuse).fit() \n",
    "res.summary()"
   ]
  },
  {
   "cell_type": "code",
   "execution_count": 13,
   "id": "a2f0952f",
   "metadata": {},
   "outputs": [
    {
     "name": "stdout",
     "output_type": "stream",
     "text": [
      "Confusion Matrix : \n",
      " [[2534  922]\n",
      " [ 699 1307]]\n",
      "Test accuracy =  0.7032222629073599\n"
     ]
    }
   ],
   "source": [
    "\n"
   ]
  },
  {
   "cell_type": "code",
   "execution_count": null,
   "id": "39daa6ed",
   "metadata": {},
   "outputs": [],
   "source": []
  }
 ],
 "metadata": {
  "interpreter": {
   "hash": "265b5a5d0f192aef45d901f2312fe39db7875761fa0b6a378260321177d7880c"
  },
  "kernelspec": {
   "display_name": "Python 3 (ipykernel)",
   "language": "python",
   "name": "python3"
  },
  "language_info": {
   "codemirror_mode": {
    "name": "ipython",
    "version": 3
   },
   "file_extension": ".py",
   "mimetype": "text/x-python",
   "name": "python",
   "nbconvert_exporter": "python",
   "pygments_lexer": "ipython3",
   "version": "3.9.7"
  }
 },
 "nbformat": 4,
 "nbformat_minor": 5
}
