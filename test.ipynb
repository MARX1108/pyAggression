{
 "cells": [
  {
   "cell_type": "code",
   "execution_count": null,
   "metadata": {},
   "outputs": [],
   "source": [
    "import pandas as pd\n",
    "import pandas as pd\n",
    "\n",
    "brain = pd.read_csv(\"./data/brain.csv\")\n",
    "main = pd.read_csv(\"./data/data.csv\")\n"
   ]
  },
  {
   "cell_type": "code",
   "execution_count": null,
   "metadata": {},
   "outputs": [],
   "source": [
    "import pickle\n",
    "\n",
    "brain = pd.read_csv(\"./data/brain.csv\")\n",
    "brain = brain.drop(brain.columns[[0, 1, 2, 3]], 1)\n",
    "with open('./data/columns/brain_subcor', 'wb') as filehandle:\n",
    "    # store the data as binary data stream\n",
    "    pickle.dump(list(brain), filehandle)\n",
    "\n",
    "with open('./data/columns/brain_subcor', 'rb') as filehandle:\n",
    "    # read the data as binary data stream\n",
    "    brainCol = pickle.load(filehandle)\n",
    "\n",
    "assert len(brain[brainCol].columns) < len(pd.read_csv(\"./data/brain.csv\").columns) \n",
    "#len(brain[brainCol].columns)\n"
   ]
  },
  {
   "cell_type": "code",
   "execution_count": null,
   "metadata": {},
   "outputs": [],
   "source": [
    "Neighbor = ['su_risk_p_1', \n",
    "'su_risk_p_2_3',\n",
    "'su_risk_p_4_5', \n",
    "'neighborhood1_2_3_p',\n",
    "'neighborhood_crime_y']\n",
    "\n",
    "with open('./data/columns/Neighbor', 'wb') as filehandle:\n",
    "    # store the data as binary data stream\n",
    "    pickle.dump(Neighbor, filehandle)"
   ]
  },
  {
   "cell_type": "code",
   "execution_count": null,
   "metadata": {},
   "outputs": [],
   "source": [
    "family = ['fes_youth',\n",
    "'fes_p_ss_fc_pr',\n",
    "'macv_p_ss_fs',\n",
    "'macv_p_ss_fo',\n",
    "'macv_p_ss_isr',\n",
    "'macv_p_ss_fr',\n",
    "'macv_p_ss_r',\n",
    "'demo_prnt_age_v2',\n",
    "'demo_prnt_marital_v2',\n",
    "'demo_comb_income_v2',\n",
    "'demo_fam_exp',\n",
    "'demo_yrs_1',\n",
    "'demo_yrs_2',\n",
    "'parent_rules_q1',\n",
    "'parent_rules_q4',\n",
    "'parent_rules_q7']\n",
    "\n",
    "with open('./data/columns/family', 'wb') as filehandle:\n",
    "    # store the data as binary data stream\n",
    "    pickle.dump(family, filehandle)"
   ]
  },
  {
   "cell_type": "code",
   "execution_count": null,
   "metadata": {},
   "outputs": [],
   "source": [
    "parent = [\n",
    "'asr_scr_perstr_t',\n",
    "'asr_scr_anxdep_t',\n",
    "'asr_scr_withdrawn_t',\n",
    "'asr_scr_somatic_t',\n",
    "'asr_scr_thought_t',\n",
    "'asr_scr_attention_t',\n",
    "'asr_scr_aggressive_t',\n",
    "'asr_scr_rulebreak_t',\n",
    "'asr_scr_intrusive_t',\n",
    "'asr_scr_internal_t',\n",
    "'asr_scr_external_t',\n",
    "'asr_scr_totprob_t',\n",
    "'asr_scr_depress_t',\n",
    "'asr_scr_anxdisord_t',\n",
    "'asr_scr_somaticpr_t',\n",
    "'asr_scr_avoidant_t',\n",
    "'asr_scr_adhd_t',\n",
    "'asr_scr_antisocial_t',\n",
    "'asr_scr_inattention_t',\n",
    "'asr_scr_hyperactive_t']\n",
    "\n",
    "with open('./data/columns/parent', 'wb') as filehandle:\n",
    "    # store the data as binary data stream\n",
    "    pickle.dump(parent, filehandle)"
   ]
  },
  {
   "cell_type": "code",
   "execution_count": null,
   "metadata": {},
   "outputs": [],
   "source": []
  }
 ],
 "metadata": {
  "interpreter": {
   "hash": "265b5a5d0f192aef45d901f2312fe39db7875761fa0b6a378260321177d7880c"
  },
  "kernelspec": {
   "display_name": "Python 3.9.7 ('venv': venv)",
   "language": "python",
   "name": "python3"
  },
  "language_info": {
   "codemirror_mode": {
    "name": "ipython",
    "version": 3
   },
   "file_extension": ".py",
   "mimetype": "text/x-python",
   "name": "python",
   "nbconvert_exporter": "python",
   "pygments_lexer": "ipython3",
   "version": "3.9.7"
  },
  "orig_nbformat": 4
 },
 "nbformat": 4,
 "nbformat_minor": 2
}
