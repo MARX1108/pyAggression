{
 "cells": [
  {
   "cell_type": "code",
   "execution_count": null,
   "metadata": {},
   "outputs": [],
   "source": [
    "import pandas as pd\n",
    "import pandas as pd\n",
    "\n",
    "brain = pd.read_csv(\"./data/brain.csv\")\n",
    "main = pd.read_csv(\"./data/data.csv\")\n",
    "\n",
    "brain"
   ]
  }
 ],
 "metadata": {
  "interpreter": {
   "hash": "265b5a5d0f192aef45d901f2312fe39db7875761fa0b6a378260321177d7880c"
  },
  "kernelspec": {
   "display_name": "Python 3.9.7 ('venv': venv)",
   "language": "python",
   "name": "python3"
  },
  "language_info": {
   "name": "python",
   "version": "3.9.7"
  },
  "orig_nbformat": 4
 },
 "nbformat": 4,
 "nbformat_minor": 2
}
