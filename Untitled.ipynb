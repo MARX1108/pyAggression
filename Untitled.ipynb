{
 "cells": [
  {
   "cell_type": "code",
   "execution_count": 29,
   "id": "f36b3ea8",
   "metadata": {},
   "outputs": [],
   "source": [
    "from helper import *\n",
    "import statsmodels.formula.api as smf\n",
    "import statsmodels.api as sm\n",
    "from sklearn.metrics import (confusion_matrix, \n",
    "                           accuracy_score, classification_report)\n",
    "from imblearn.over_sampling import SMOTE\n",
    "from imblearn.under_sampling import RandomUnderSampler\n",
    "from collections import Counter\n"
   ]
  },
  {
   "cell_type": "code",
   "execution_count": 34,
   "id": "c7200cd1",
   "metadata": {},
   "outputs": [
    {
     "name": "stdout",
     "output_type": "stream",
     "text": [
      "0    3456\n",
      "1    2006\n",
      "Name: y, dtype: int64\n",
      "0    2606\n",
      "1    1490\n",
      "Name: y, dtype: int64\n",
      "0    850\n",
      "1    516\n",
      "Name: y, dtype: int64\n",
      "Counter({0: 1504, 1: 1504})\n",
      "Optimization terminated successfully.\n",
      "         Current function value: 0.497067\n",
      "         Iterations 6\n",
      "Counter({0: 1512, 1: 1512})\n"
     ]
    },
    {
     "name": "stderr",
     "output_type": "stream",
     "text": [
      "/var/folders/k5/cr7j5c4x0hxgb876c543f9qr0000gn/T/ipykernel_63691/1208984228.py:28: FutureWarning: The frame.append method is deprecated and will be removed from pandas in a future version. Use pandas.concat instead.\n",
      "  result = result.append({\"i\":i,\"train\":train_accuracy, \"test\":test_accuracy}, ignore_index=True)\n"
     ]
    },
    {
     "name": "stdout",
     "output_type": "stream",
     "text": [
      "Optimization terminated successfully.\n",
      "         Current function value: 0.510453\n",
      "         Iterations 6\n",
      "Counter({0: 1513, 1: 1513})\n",
      "Optimization terminated successfully.\n",
      "         Current function value: 0.495185\n",
      "         Iterations 6\n"
     ]
    },
    {
     "name": "stderr",
     "output_type": "stream",
     "text": [
      "/var/folders/k5/cr7j5c4x0hxgb876c543f9qr0000gn/T/ipykernel_63691/1208984228.py:28: FutureWarning: The frame.append method is deprecated and will be removed from pandas in a future version. Use pandas.concat instead.\n",
      "  result = result.append({\"i\":i,\"train\":train_accuracy, \"test\":test_accuracy}, ignore_index=True)\n",
      "/var/folders/k5/cr7j5c4x0hxgb876c543f9qr0000gn/T/ipykernel_63691/1208984228.py:28: FutureWarning: The frame.append method is deprecated and will be removed from pandas in a future version. Use pandas.concat instead.\n",
      "  result = result.append({\"i\":i,\"train\":train_accuracy, \"test\":test_accuracy}, ignore_index=True)\n",
      "/var/folders/k5/cr7j5c4x0hxgb876c543f9qr0000gn/T/ipykernel_63691/1208984228.py:28: FutureWarning: The frame.append method is deprecated and will be removed from pandas in a future version. Use pandas.concat instead.\n",
      "  result = result.append({\"i\":i,\"train\":train_accuracy, \"test\":test_accuracy}, ignore_index=True)\n",
      "/var/folders/k5/cr7j5c4x0hxgb876c543f9qr0000gn/T/ipykernel_63691/1208984228.py:28: FutureWarning: The frame.append method is deprecated and will be removed from pandas in a future version. Use pandas.concat instead.\n",
      "  result = result.append({\"i\":i,\"train\":train_accuracy, \"test\":test_accuracy}, ignore_index=True)\n"
     ]
    },
    {
     "name": "stdout",
     "output_type": "stream",
     "text": [
      "Counter({0: 1519, 1: 1519})\n",
      "Optimization terminated successfully.\n",
      "         Current function value: 0.494116\n",
      "         Iterations 6\n",
      "Counter({0: 1506, 1: 1506})\n",
      "Optimization terminated successfully.\n",
      "         Current function value: 0.497434\n",
      "         Iterations 6\n",
      "Counter({0: 1503, 1: 1503})\n",
      "Optimization terminated successfully.\n",
      "         Current function value: 0.496568\n",
      "         Iterations 6\n",
      "Counter({0: 1516, 1: 1516})\n",
      "Optimization terminated successfully.\n",
      "         Current function value: 0.493191\n",
      "         Iterations 6\n",
      "Counter({0: 1507, 1: 1507})\n"
     ]
    },
    {
     "name": "stderr",
     "output_type": "stream",
     "text": [
      "/var/folders/k5/cr7j5c4x0hxgb876c543f9qr0000gn/T/ipykernel_63691/1208984228.py:28: FutureWarning: The frame.append method is deprecated and will be removed from pandas in a future version. Use pandas.concat instead.\n",
      "  result = result.append({\"i\":i,\"train\":train_accuracy, \"test\":test_accuracy}, ignore_index=True)\n",
      "/var/folders/k5/cr7j5c4x0hxgb876c543f9qr0000gn/T/ipykernel_63691/1208984228.py:28: FutureWarning: The frame.append method is deprecated and will be removed from pandas in a future version. Use pandas.concat instead.\n",
      "  result = result.append({\"i\":i,\"train\":train_accuracy, \"test\":test_accuracy}, ignore_index=True)\n",
      "/var/folders/k5/cr7j5c4x0hxgb876c543f9qr0000gn/T/ipykernel_63691/1208984228.py:28: FutureWarning: The frame.append method is deprecated and will be removed from pandas in a future version. Use pandas.concat instead.\n",
      "  result = result.append({\"i\":i,\"train\":train_accuracy, \"test\":test_accuracy}, ignore_index=True)\n",
      "/var/folders/k5/cr7j5c4x0hxgb876c543f9qr0000gn/T/ipykernel_63691/1208984228.py:28: FutureWarning: The frame.append method is deprecated and will be removed from pandas in a future version. Use pandas.concat instead.\n",
      "  result = result.append({\"i\":i,\"train\":train_accuracy, \"test\":test_accuracy}, ignore_index=True)\n",
      "/var/folders/k5/cr7j5c4x0hxgb876c543f9qr0000gn/T/ipykernel_63691/1208984228.py:28: FutureWarning: The frame.append method is deprecated and will be removed from pandas in a future version. Use pandas.concat instead.\n",
      "  result = result.append({\"i\":i,\"train\":train_accuracy, \"test\":test_accuracy}, ignore_index=True)\n"
     ]
    },
    {
     "name": "stdout",
     "output_type": "stream",
     "text": [
      "Optimization terminated successfully.\n",
      "         Current function value: 0.504794\n",
      "         Iterations 6\n",
      "Counter({0: 1495, 1: 1495})\n",
      "Optimization terminated successfully.\n",
      "         Current function value: 0.486311\n",
      "         Iterations 6\n",
      "Counter({0: 1496, 1: 1496})\n",
      "Optimization terminated successfully.\n",
      "         Current function value: 0.497133\n",
      "         Iterations 6\n",
      "Counter({0: 1485, 1: 1485})\n",
      "Optimization terminated successfully.\n",
      "         Current function value: 0.487474\n",
      "         Iterations 6\n",
      "Counter({0: 1540, 1: 1540})\n",
      "Optimization terminated successfully.\n",
      "         Current function value: 0.508692\n",
      "         Iterations 6\n",
      "Counter({0: 1495, 1: 1495})\n"
     ]
    },
    {
     "name": "stderr",
     "output_type": "stream",
     "text": [
      "/var/folders/k5/cr7j5c4x0hxgb876c543f9qr0000gn/T/ipykernel_63691/1208984228.py:28: FutureWarning: The frame.append method is deprecated and will be removed from pandas in a future version. Use pandas.concat instead.\n",
      "  result = result.append({\"i\":i,\"train\":train_accuracy, \"test\":test_accuracy}, ignore_index=True)\n",
      "/var/folders/k5/cr7j5c4x0hxgb876c543f9qr0000gn/T/ipykernel_63691/1208984228.py:28: FutureWarning: The frame.append method is deprecated and will be removed from pandas in a future version. Use pandas.concat instead.\n",
      "  result = result.append({\"i\":i,\"train\":train_accuracy, \"test\":test_accuracy}, ignore_index=True)\n",
      "/var/folders/k5/cr7j5c4x0hxgb876c543f9qr0000gn/T/ipykernel_63691/1208984228.py:28: FutureWarning: The frame.append method is deprecated and will be removed from pandas in a future version. Use pandas.concat instead.\n",
      "  result = result.append({\"i\":i,\"train\":train_accuracy, \"test\":test_accuracy}, ignore_index=True)\n",
      "/var/folders/k5/cr7j5c4x0hxgb876c543f9qr0000gn/T/ipykernel_63691/1208984228.py:28: FutureWarning: The frame.append method is deprecated and will be removed from pandas in a future version. Use pandas.concat instead.\n",
      "  result = result.append({\"i\":i,\"train\":train_accuracy, \"test\":test_accuracy}, ignore_index=True)\n",
      "/var/folders/k5/cr7j5c4x0hxgb876c543f9qr0000gn/T/ipykernel_63691/1208984228.py:28: FutureWarning: The frame.append method is deprecated and will be removed from pandas in a future version. Use pandas.concat instead.\n",
      "  result = result.append({\"i\":i,\"train\":train_accuracy, \"test\":test_accuracy}, ignore_index=True)\n"
     ]
    },
    {
     "name": "stdout",
     "output_type": "stream",
     "text": [
      "Optimization terminated successfully.\n",
      "         Current function value: 0.486261\n",
      "         Iterations 6\n",
      "Counter({0: 1510, 1: 1510})\n",
      "Optimization terminated successfully.\n",
      "         Current function value: 0.490087\n",
      "         Iterations 6\n",
      "Counter({0: 1498, 1: 1498})\n",
      "Optimization terminated successfully.\n",
      "         Current function value: 0.486212\n",
      "         Iterations 6\n",
      "Counter({0: 1482, 1: 1482})\n",
      "Optimization terminated successfully.\n",
      "         Current function value: 0.491279\n",
      "         Iterations 6\n",
      "Counter({0: 1485, 1: 1485})\n"
     ]
    },
    {
     "name": "stderr",
     "output_type": "stream",
     "text": [
      "/var/folders/k5/cr7j5c4x0hxgb876c543f9qr0000gn/T/ipykernel_63691/1208984228.py:28: FutureWarning: The frame.append method is deprecated and will be removed from pandas in a future version. Use pandas.concat instead.\n",
      "  result = result.append({\"i\":i,\"train\":train_accuracy, \"test\":test_accuracy}, ignore_index=True)\n",
      "/var/folders/k5/cr7j5c4x0hxgb876c543f9qr0000gn/T/ipykernel_63691/1208984228.py:28: FutureWarning: The frame.append method is deprecated and will be removed from pandas in a future version. Use pandas.concat instead.\n",
      "  result = result.append({\"i\":i,\"train\":train_accuracy, \"test\":test_accuracy}, ignore_index=True)\n",
      "/var/folders/k5/cr7j5c4x0hxgb876c543f9qr0000gn/T/ipykernel_63691/1208984228.py:28: FutureWarning: The frame.append method is deprecated and will be removed from pandas in a future version. Use pandas.concat instead.\n",
      "  result = result.append({\"i\":i,\"train\":train_accuracy, \"test\":test_accuracy}, ignore_index=True)\n"
     ]
    },
    {
     "name": "stdout",
     "output_type": "stream",
     "text": [
      "Optimization terminated successfully.\n",
      "         Current function value: 0.501154\n",
      "         Iterations 6\n",
      "Counter({0: 1508, 1: 1508})\n",
      "Optimization terminated successfully.\n",
      "         Current function value: 0.505177\n",
      "         Iterations 6\n",
      "Counter({0: 1508, 1: 1508})\n",
      "Optimization terminated successfully.\n",
      "         Current function value: 0.496179\n",
      "         Iterations 6\n",
      "Counter({0: 1489, 1: 1489})\n"
     ]
    },
    {
     "name": "stderr",
     "output_type": "stream",
     "text": [
      "/var/folders/k5/cr7j5c4x0hxgb876c543f9qr0000gn/T/ipykernel_63691/1208984228.py:28: FutureWarning: The frame.append method is deprecated and will be removed from pandas in a future version. Use pandas.concat instead.\n",
      "  result = result.append({\"i\":i,\"train\":train_accuracy, \"test\":test_accuracy}, ignore_index=True)\n",
      "/var/folders/k5/cr7j5c4x0hxgb876c543f9qr0000gn/T/ipykernel_63691/1208984228.py:28: FutureWarning: The frame.append method is deprecated and will be removed from pandas in a future version. Use pandas.concat instead.\n",
      "  result = result.append({\"i\":i,\"train\":train_accuracy, \"test\":test_accuracy}, ignore_index=True)\n",
      "/var/folders/k5/cr7j5c4x0hxgb876c543f9qr0000gn/T/ipykernel_63691/1208984228.py:28: FutureWarning: The frame.append method is deprecated and will be removed from pandas in a future version. Use pandas.concat instead.\n",
      "  result = result.append({\"i\":i,\"train\":train_accuracy, \"test\":test_accuracy}, ignore_index=True)\n",
      "/var/folders/k5/cr7j5c4x0hxgb876c543f9qr0000gn/T/ipykernel_63691/1208984228.py:28: FutureWarning: The frame.append method is deprecated and will be removed from pandas in a future version. Use pandas.concat instead.\n",
      "  result = result.append({\"i\":i,\"train\":train_accuracy, \"test\":test_accuracy}, ignore_index=True)\n",
      "/var/folders/k5/cr7j5c4x0hxgb876c543f9qr0000gn/T/ipykernel_63691/1208984228.py:28: FutureWarning: The frame.append method is deprecated and will be removed from pandas in a future version. Use pandas.concat instead.\n",
      "  result = result.append({\"i\":i,\"train\":train_accuracy, \"test\":test_accuracy}, ignore_index=True)\n",
      "/var/folders/k5/cr7j5c4x0hxgb876c543f9qr0000gn/T/ipykernel_63691/1208984228.py:28: FutureWarning: The frame.append method is deprecated and will be removed from pandas in a future version. Use pandas.concat instead.\n",
      "  result = result.append({\"i\":i,\"train\":train_accuracy, \"test\":test_accuracy}, ignore_index=True)\n"
     ]
    },
    {
     "name": "stdout",
     "output_type": "stream",
     "text": [
      "Optimization terminated successfully.\n",
      "         Current function value: 0.501795\n",
      "         Iterations 6\n",
      "Counter({0: 1507, 1: 1507})\n",
      "Optimization terminated successfully.\n",
      "         Current function value: 0.501830\n",
      "         Iterations 6\n",
      "Counter({0: 1513, 1: 1513})\n",
      "Optimization terminated successfully.\n",
      "         Current function value: 0.498327\n",
      "         Iterations 6\n",
      "Counter({0: 1514, 1: 1514})\n",
      "Optimization terminated successfully.\n",
      "         Current function value: 0.516496\n",
      "         Iterations 6\n",
      "Counter({0: 1504, 1: 1504})\n",
      "Optimization terminated successfully.\n",
      "         Current function value: 0.503780\n",
      "         Iterations 6\n",
      "Counter({0: 1494, 1: 1494})\n",
      "Optimization terminated successfully.\n",
      "         Current function value: 0.492833\n",
      "         Iterations 6\n",
      "Counter({0: 1496, 1: 1496})\n",
      "Optimization terminated successfully.\n",
      "         Current function value: 0.498820\n",
      "         Iterations 6\n",
      "Counter({0: 1495, 1: 1495})\n",
      "Optimization terminated successfully.\n",
      "         Current function value: 0.500907\n",
      "         Iterations 6\n",
      "Counter({0: 1493, 1: 1493})\n",
      "Optimization terminated successfully.\n",
      "         Current function value: 0.497517\n",
      "         Iterations 6\n",
      "Counter({0: 1514, 1: 1514})\n",
      "Optimization terminated successfully.\n",
      "         Current function value: 0.492444\n",
      "         Iterations 6\n",
      "Counter({0: 1514, 1: 1514})\n"
     ]
    },
    {
     "name": "stderr",
     "output_type": "stream",
     "text": [
      "/var/folders/k5/cr7j5c4x0hxgb876c543f9qr0000gn/T/ipykernel_63691/1208984228.py:28: FutureWarning: The frame.append method is deprecated and will be removed from pandas in a future version. Use pandas.concat instead.\n",
      "  result = result.append({\"i\":i,\"train\":train_accuracy, \"test\":test_accuracy}, ignore_index=True)\n",
      "/var/folders/k5/cr7j5c4x0hxgb876c543f9qr0000gn/T/ipykernel_63691/1208984228.py:28: FutureWarning: The frame.append method is deprecated and will be removed from pandas in a future version. Use pandas.concat instead.\n",
      "  result = result.append({\"i\":i,\"train\":train_accuracy, \"test\":test_accuracy}, ignore_index=True)\n",
      "/var/folders/k5/cr7j5c4x0hxgb876c543f9qr0000gn/T/ipykernel_63691/1208984228.py:28: FutureWarning: The frame.append method is deprecated and will be removed from pandas in a future version. Use pandas.concat instead.\n",
      "  result = result.append({\"i\":i,\"train\":train_accuracy, \"test\":test_accuracy}, ignore_index=True)\n",
      "/var/folders/k5/cr7j5c4x0hxgb876c543f9qr0000gn/T/ipykernel_63691/1208984228.py:28: FutureWarning: The frame.append method is deprecated and will be removed from pandas in a future version. Use pandas.concat instead.\n",
      "  result = result.append({\"i\":i,\"train\":train_accuracy, \"test\":test_accuracy}, ignore_index=True)\n",
      "/var/folders/k5/cr7j5c4x0hxgb876c543f9qr0000gn/T/ipykernel_63691/1208984228.py:28: FutureWarning: The frame.append method is deprecated and will be removed from pandas in a future version. Use pandas.concat instead.\n",
      "  result = result.append({\"i\":i,\"train\":train_accuracy, \"test\":test_accuracy}, ignore_index=True)\n"
     ]
    },
    {
     "name": "stdout",
     "output_type": "stream",
     "text": [
      "Optimization terminated successfully.\n",
      "         Current function value: 0.497938\n",
      "         Iterations 6\n",
      "Counter({0: 1545, 1: 1545})\n",
      "Optimization terminated successfully.\n",
      "         Current function value: 0.495707\n",
      "         Iterations 6\n",
      "Counter({0: 1509, 1: 1509})\n",
      "Optimization terminated successfully.\n",
      "         Current function value: 0.494743\n",
      "         Iterations 6\n",
      "Counter({0: 1527, 1: 1527})\n",
      "Optimization terminated successfully.\n",
      "         Current function value: 0.504729\n",
      "         Iterations 6\n",
      "Counter({0: 1524, 1: 1524})\n",
      "Optimization terminated successfully.\n",
      "         Current function value: 0.497687\n",
      "         Iterations 6\n"
     ]
    },
    {
     "name": "stderr",
     "output_type": "stream",
     "text": [
      "/var/folders/k5/cr7j5c4x0hxgb876c543f9qr0000gn/T/ipykernel_63691/1208984228.py:28: FutureWarning: The frame.append method is deprecated and will be removed from pandas in a future version. Use pandas.concat instead.\n",
      "  result = result.append({\"i\":i,\"train\":train_accuracy, \"test\":test_accuracy}, ignore_index=True)\n",
      "/var/folders/k5/cr7j5c4x0hxgb876c543f9qr0000gn/T/ipykernel_63691/1208984228.py:28: FutureWarning: The frame.append method is deprecated and will be removed from pandas in a future version. Use pandas.concat instead.\n",
      "  result = result.append({\"i\":i,\"train\":train_accuracy, \"test\":test_accuracy}, ignore_index=True)\n",
      "/var/folders/k5/cr7j5c4x0hxgb876c543f9qr0000gn/T/ipykernel_63691/1208984228.py:28: FutureWarning: The frame.append method is deprecated and will be removed from pandas in a future version. Use pandas.concat instead.\n",
      "  result = result.append({\"i\":i,\"train\":train_accuracy, \"test\":test_accuracy}, ignore_index=True)\n",
      "/var/folders/k5/cr7j5c4x0hxgb876c543f9qr0000gn/T/ipykernel_63691/1208984228.py:28: FutureWarning: The frame.append method is deprecated and will be removed from pandas in a future version. Use pandas.concat instead.\n",
      "  result = result.append({\"i\":i,\"train\":train_accuracy, \"test\":test_accuracy}, ignore_index=True)\n",
      "/var/folders/k5/cr7j5c4x0hxgb876c543f9qr0000gn/T/ipykernel_63691/1208984228.py:28: FutureWarning: The frame.append method is deprecated and will be removed from pandas in a future version. Use pandas.concat instead.\n",
      "  result = result.append({\"i\":i,\"train\":train_accuracy, \"test\":test_accuracy}, ignore_index=True)\n"
     ]
    },
    {
     "name": "stdout",
     "output_type": "stream",
     "text": [
      "Counter({0: 1538, 1: 1538})\n",
      "Optimization terminated successfully.\n",
      "         Current function value: 0.493711\n",
      "         Iterations 6\n",
      "Counter({0: 1501, 1: 1501})\n",
      "Optimization terminated successfully.\n",
      "         Current function value: 0.495332\n",
      "         Iterations 6\n",
      "Counter({0: 1500, 1: 1500})\n",
      "Optimization terminated successfully.\n",
      "         Current function value: 0.508120\n",
      "         Iterations 6\n",
      "Counter({0: 1488, 1: 1488})\n"
     ]
    },
    {
     "name": "stderr",
     "output_type": "stream",
     "text": [
      "/var/folders/k5/cr7j5c4x0hxgb876c543f9qr0000gn/T/ipykernel_63691/1208984228.py:28: FutureWarning: The frame.append method is deprecated and will be removed from pandas in a future version. Use pandas.concat instead.\n",
      "  result = result.append({\"i\":i,\"train\":train_accuracy, \"test\":test_accuracy}, ignore_index=True)\n",
      "/var/folders/k5/cr7j5c4x0hxgb876c543f9qr0000gn/T/ipykernel_63691/1208984228.py:28: FutureWarning: The frame.append method is deprecated and will be removed from pandas in a future version. Use pandas.concat instead.\n",
      "  result = result.append({\"i\":i,\"train\":train_accuracy, \"test\":test_accuracy}, ignore_index=True)\n",
      "/var/folders/k5/cr7j5c4x0hxgb876c543f9qr0000gn/T/ipykernel_63691/1208984228.py:28: FutureWarning: The frame.append method is deprecated and will be removed from pandas in a future version. Use pandas.concat instead.\n",
      "  result = result.append({\"i\":i,\"train\":train_accuracy, \"test\":test_accuracy}, ignore_index=True)\n"
     ]
    },
    {
     "name": "stdout",
     "output_type": "stream",
     "text": [
      "Optimization terminated successfully.\n",
      "         Current function value: 0.490618\n",
      "         Iterations 6\n",
      "Counter({0: 1522, 1: 1522})\n",
      "Optimization terminated successfully.\n",
      "         Current function value: 0.501415\n",
      "         Iterations 6\n",
      "Counter({0: 1479, 1: 1479})\n",
      "Optimization terminated successfully.\n",
      "         Current function value: 0.498582\n",
      "         Iterations 6\n",
      "Counter({0: 1514, 1: 1514})\n",
      "Optimization terminated successfully.\n",
      "         Current function value: 0.492985\n",
      "         Iterations 6\n"
     ]
    },
    {
     "name": "stderr",
     "output_type": "stream",
     "text": [
      "/var/folders/k5/cr7j5c4x0hxgb876c543f9qr0000gn/T/ipykernel_63691/1208984228.py:28: FutureWarning: The frame.append method is deprecated and will be removed from pandas in a future version. Use pandas.concat instead.\n",
      "  result = result.append({\"i\":i,\"train\":train_accuracy, \"test\":test_accuracy}, ignore_index=True)\n",
      "/var/folders/k5/cr7j5c4x0hxgb876c543f9qr0000gn/T/ipykernel_63691/1208984228.py:28: FutureWarning: The frame.append method is deprecated and will be removed from pandas in a future version. Use pandas.concat instead.\n",
      "  result = result.append({\"i\":i,\"train\":train_accuracy, \"test\":test_accuracy}, ignore_index=True)\n",
      "/var/folders/k5/cr7j5c4x0hxgb876c543f9qr0000gn/T/ipykernel_63691/1208984228.py:28: FutureWarning: The frame.append method is deprecated and will be removed from pandas in a future version. Use pandas.concat instead.\n",
      "  result = result.append({\"i\":i,\"train\":train_accuracy, \"test\":test_accuracy}, ignore_index=True)\n",
      "/var/folders/k5/cr7j5c4x0hxgb876c543f9qr0000gn/T/ipykernel_63691/1208984228.py:28: FutureWarning: The frame.append method is deprecated and will be removed from pandas in a future version. Use pandas.concat instead.\n",
      "  result = result.append({\"i\":i,\"train\":train_accuracy, \"test\":test_accuracy}, ignore_index=True)\n"
     ]
    },
    {
     "name": "stdout",
     "output_type": "stream",
     "text": [
      "Counter({0: 1512, 1: 1512})\n",
      "Optimization terminated successfully.\n",
      "         Current function value: 0.499842\n",
      "         Iterations 6\n",
      "Counter({0: 1509, 1: 1509})\n",
      "Optimization terminated successfully.\n",
      "         Current function value: 0.494567\n",
      "         Iterations 6\n",
      "Counter({0: 1499, 1: 1499})\n"
     ]
    },
    {
     "name": "stderr",
     "output_type": "stream",
     "text": [
      "/var/folders/k5/cr7j5c4x0hxgb876c543f9qr0000gn/T/ipykernel_63691/1208984228.py:28: FutureWarning: The frame.append method is deprecated and will be removed from pandas in a future version. Use pandas.concat instead.\n",
      "  result = result.append({\"i\":i,\"train\":train_accuracy, \"test\":test_accuracy}, ignore_index=True)\n",
      "/var/folders/k5/cr7j5c4x0hxgb876c543f9qr0000gn/T/ipykernel_63691/1208984228.py:28: FutureWarning: The frame.append method is deprecated and will be removed from pandas in a future version. Use pandas.concat instead.\n",
      "  result = result.append({\"i\":i,\"train\":train_accuracy, \"test\":test_accuracy}, ignore_index=True)\n"
     ]
    },
    {
     "name": "stdout",
     "output_type": "stream",
     "text": [
      "Optimization terminated successfully.\n",
      "         Current function value: 0.490272\n",
      "         Iterations 6\n",
      "Counter({0: 1507, 1: 1507})\n",
      "Optimization terminated successfully.\n",
      "         Current function value: 0.500132\n",
      "         Iterations 6\n",
      "Counter({0: 1518, 1: 1518})\n",
      "Optimization terminated successfully.\n",
      "         Current function value: 0.501238\n",
      "         Iterations 6\n",
      "Counter({0: 1526, 1: 1526})\n"
     ]
    },
    {
     "name": "stderr",
     "output_type": "stream",
     "text": [
      "/var/folders/k5/cr7j5c4x0hxgb876c543f9qr0000gn/T/ipykernel_63691/1208984228.py:28: FutureWarning: The frame.append method is deprecated and will be removed from pandas in a future version. Use pandas.concat instead.\n",
      "  result = result.append({\"i\":i,\"train\":train_accuracy, \"test\":test_accuracy}, ignore_index=True)\n",
      "/var/folders/k5/cr7j5c4x0hxgb876c543f9qr0000gn/T/ipykernel_63691/1208984228.py:28: FutureWarning: The frame.append method is deprecated and will be removed from pandas in a future version. Use pandas.concat instead.\n",
      "  result = result.append({\"i\":i,\"train\":train_accuracy, \"test\":test_accuracy}, ignore_index=True)\n",
      "/var/folders/k5/cr7j5c4x0hxgb876c543f9qr0000gn/T/ipykernel_63691/1208984228.py:28: FutureWarning: The frame.append method is deprecated and will be removed from pandas in a future version. Use pandas.concat instead.\n",
      "  result = result.append({\"i\":i,\"train\":train_accuracy, \"test\":test_accuracy}, ignore_index=True)\n"
     ]
    },
    {
     "name": "stdout",
     "output_type": "stream",
     "text": [
      "Optimization terminated successfully.\n",
      "         Current function value: 0.488849\n",
      "         Iterations 6\n",
      "Counter({0: 1497, 1: 1497})\n",
      "Optimization terminated successfully.\n",
      "         Current function value: 0.498375\n",
      "         Iterations 6\n",
      "Counter({0: 1509, 1: 1509})\n",
      "Optimization terminated successfully.\n",
      "         Current function value: 0.498317\n",
      "         Iterations 6\n",
      "Counter({0: 1491, 1: 1491})\n",
      "Optimization terminated successfully.\n",
      "         Current function value: 0.498577\n",
      "         Iterations 6\n"
     ]
    },
    {
     "name": "stderr",
     "output_type": "stream",
     "text": [
      "/var/folders/k5/cr7j5c4x0hxgb876c543f9qr0000gn/T/ipykernel_63691/1208984228.py:28: FutureWarning: The frame.append method is deprecated and will be removed from pandas in a future version. Use pandas.concat instead.\n",
      "  result = result.append({\"i\":i,\"train\":train_accuracy, \"test\":test_accuracy}, ignore_index=True)\n",
      "/var/folders/k5/cr7j5c4x0hxgb876c543f9qr0000gn/T/ipykernel_63691/1208984228.py:28: FutureWarning: The frame.append method is deprecated and will be removed from pandas in a future version. Use pandas.concat instead.\n",
      "  result = result.append({\"i\":i,\"train\":train_accuracy, \"test\":test_accuracy}, ignore_index=True)\n",
      "/var/folders/k5/cr7j5c4x0hxgb876c543f9qr0000gn/T/ipykernel_63691/1208984228.py:28: FutureWarning: The frame.append method is deprecated and will be removed from pandas in a future version. Use pandas.concat instead.\n",
      "  result = result.append({\"i\":i,\"train\":train_accuracy, \"test\":test_accuracy}, ignore_index=True)\n",
      "/var/folders/k5/cr7j5c4x0hxgb876c543f9qr0000gn/T/ipykernel_63691/1208984228.py:28: FutureWarning: The frame.append method is deprecated and will be removed from pandas in a future version. Use pandas.concat instead.\n",
      "  result = result.append({\"i\":i,\"train\":train_accuracy, \"test\":test_accuracy}, ignore_index=True)\n",
      "/Users/marxw/Desktop/andlab/pyAggression/venv/lib/python3.9/site-packages/pandas/core/indexes/base.py:6982: FutureWarning: In a future version, the Index constructor will not infer numeric dtypes when passed object-dtype sequences (matching Series behavior)\n",
      "  return Index(sequences[0], name=names)\n"
     ]
    },
    {
     "name": "stdout",
     "output_type": "stream",
     "text": [
      "True\n"
     ]
    },
    {
     "data": {
      "image/png": "[encoded data removed]",
      "text/plain": [
       "<Figure size 432x288 with 1 Axes>"
      ]
     },
     "metadata": {
      "needs_background": "light"
     },
     "output_type": "display_data"
    }
   ],
   "source": [
    "col = [\"family\", \"parent\",\"neighbor\"]\n",
    "df = preprosessing(col, orginal=True)\n",
    "X = df.drop('y', axis=1)\n",
    "y = df['y']\n",
    "\n",
    "result = pd.DataFrame( columns=[\"i\",\"train\", \"test\"])\n",
    "\n",
    "i = 1\n",
    "while(i < 100):\n",
    "    X_train, X_test, y_train, y_test = train_test_split(\n",
    "        X, y, random_state=i, train_size=0.75)\n",
    "    \n",
    "    undersample = RandomUnderSampler(sampling_strategy='majority', random_state=i)\n",
    "    X_train, y_train = undersample.fit_resample(X_train, y_train)\n",
    "    print(Counter(y_train))\n",
    "    # oversample = SMOTE()\n",
    "    # X_train, y_train = oversample.fit_resample(X_train, y_train)\n",
    "\n",
    "    log_reg = sm.Logit(y_train, X_train).fit()\n",
    "    yhat = log_reg.predict(X_test)\n",
    "    train_yhat = log_reg.predict(X_train)\n",
    "\n",
    "    train_prediction = list(map(round, train_yhat))\n",
    "    prediction = list(map(round, yhat))\n",
    "    train_accuracy = accuracy_score(y_train, train_prediction)\n",
    "    test_accuracy = accuracy_score(y_test, prediction)\n",
    "\n",
    "    result = result.append({\"i\":i,\"train\":train_accuracy, \"test\":test_accuracy}, ignore_index=True)\n",
    "    i+=2\n",
    "\n",
    "ax1 = result.plot(kind='line', x='i', y='train', color='r', title='Random State v. Accuracy,  Undersampling, Model: Neighbor, Family, Parent')    \n",
    "ax2 = result.plot(kind='line', x='i', y='test', color='g', ax=ax1)    \n",
    "ax1.axhline(result['train'].mean(), c='r')\n",
    "ax1.axhline(result['test'].mean(), c='g')\n",
    "print(ax1 == ax2)  # True\n"
   ]
  },
  {
   "cell_type": "code",
   "execution_count": null,
   "id": "b8c99413",
   "metadata": {},
   "outputs": [],
   "source": [
    "col = [\"family\", \"parent\",\"neighbor\"]\n",
    "df = pd.DataFrame( columns=[\"i\",\"train\", \"test\", \"sensitivity\", \"specificity\"])\n",
    "i = 1\n",
    "while(i < 100):\n",
    "    train,test, report = logit(col, train_size=0.75, split_random_state=i)\n",
    "    df = df.append({\"i\":i,\"train\":train, \"test\":test, \"sensitivity\":report['High']['recall'],  \"specificity\":report['Low']['recall']}, ignore_index=True)\n",
    "    i+=2\n",
    "\n",
    "ax1 = df.plot(kind='line', x='i', y='train', color='r', title='Random State v. Accuracy, ROSE Sampling, Model: Family, Parent, Neighbor')    \n",
    "ax2 = df.plot(kind='line', x='i', y='test', color='g', ax=ax1)    \n",
    "ax1.axhline(df['train'].mean(), c='r')\n",
    "ax1.axhline(df['test'].mean(), c='g')\n",
    "\n",
    "print(ax1 == ax2)  # True"
   ]
  },
  {
   "cell_type": "code",
   "execution_count": null,
   "id": "5fa8dccf",
   "metadata": {},
   "outputs": [],
   "source": [
    "col = [\"family\"]\n",
    "# logit(col, train_size=0.75)\n",
    "# logit(col, train_size=0.80)\n",
    "# logit(col, train_size=0.90)\n",
    "df = pd.DataFrame( columns=[\"i\",\"train\", \"test\", \"sensitivity\", \"specificity\"])\n",
    "i = 1\n",
    "while(i < 100):\n",
    "    train,test, report = logit(col, train_size=0.85, split_random_state = i)\n",
    "    df = df.append({\"i\":i,\"train\":train, \"test\":test, \"sensitivity\":report['High']['recall'],  \"specificity\":report['Low']['recall']}, ignore_index=True)\n",
    "    i+=2\n",
    "\n",
    "ax1 = df.plot(kind='line', x='i', y='train', color='r')    \n",
    "ax2 = df.plot(kind='line', x='i', y='test', color='g', ax=ax1)    \n",
    "\n",
    "print(ax1 == ax2)  # True"
   ]
  },
  {
   "cell_type": "code",
   "execution_count": null,
   "id": "083764c3",
   "metadata": {},
   "outputs": [],
   "source": [
    "import numpy as np\n",
    "from sklearn.model_selection import train_test_split\n",
    "from sklearn import datasets\n",
    "from sklearn import svm"
   ]
  },
  {
   "cell_type": "code",
   "execution_count": null,
   "id": "c81ae6df",
   "metadata": {},
   "outputs": [],
   "source": [
    "\n",
    "col = [\"neighbor\"]\n",
    "df = preprosessing(col, size=5000, seed=3)\n",
    "# df = pd.get_dummies(df, columns=['sex'], drop_first=True)\n",
    "\n",
    "log_reg = sm.formula.glm(\"y ~ su_risk_p_1+su_risk_p_2_3+su_risk_p_4_5+neighborhood1_2_3_p+neighborhood_crime_y\",  \n",
    "family=sm.families.Binomial(), data=df).fit() \n",
    "print(log_reg.summary())\n",
    "\n",
    "df = preprosessing(col, orginal=True)\n",
    "print(df.shape)\n",
    "yhat = log_reg.predict(df)\n",
    "print(yhat)\n",
    "prediction = list(map(round, yhat))\n",
    "\n",
    "# confusion matrix\n",
    "cm = confusion_matrix( df[['y']], prediction) \n",
    "print (\"Confusion Matrix : \\n\", cm) \n",
    "# accuracy score of the model\n",
    "print('Test accuracy = ', accuracy_score( df[['y']], prediction))\n",
    "\n"
   ]
  },
  {
   "cell_type": "code",
   "execution_count": null,
   "id": "0f5f9db4",
   "metadata": {},
   "outputs": [],
   "source": [
    "col = [\"neighbor\"]\n",
    "logit(col, train_size=0.75)\n",
    "logit(col, train_size=0.80)\n",
    "logit(col, train_size=0.90)\n",
    "\n"
   ]
  },
  {
   "cell_type": "code",
   "execution_count": null,
   "id": "42edaa8e",
   "metadata": {},
   "outputs": [],
   "source": [
    "from sklearn.model_selection import train_test_split\n",
    "\n",
    "\n",
    "col = [\"neighbor\"]\n",
    "df = preprosessing(col, size=5000, seed=3)\n",
    "# df = pd.get_dummies(df, columns=['sex'], drop_first=True)\n",
    "\n",
    "ytrain = df[['y']]\n",
    "Xtrain = df.drop('y', axis=1)\n",
    "Xtrain = sm.add_constant(Xtrain)\n",
    "log_reg = sm.Logit(ytrain, Xtrain).fit()\n",
    "\n",
    "\n",
    "df = preprosessing(col, orginal=True)\n",
    "Xtest = df.drop('y', axis=1)\n",
    "Xtest = sm.add_constant(Xtest)\n",
    "\n",
    "yhat = log_reg.predict(Xtest)\n",
    "prediction = list(map(round, yhat))\n",
    "print(log_reg.summary())\n",
    "\n",
    "# confusion matrix\n",
    "cm = confusion_matrix( df[['y']], prediction) \n",
    "print (\"Confusion Matrix : \\n\", cm) \n",
    "# accuracy score of the model\n",
    "print('Test accuracy = ', accuracy_score( df[['y']], prediction))\n"
   ]
  },
  {
   "cell_type": "code",
   "execution_count": null,
   "id": "a105eea0",
   "metadata": {},
   "outputs": [],
   "source": [
    "\n",
    "col = [\"neighbor\"]\n",
    "train, test = preprosessing(col, size=4000, seed=3, split=True, train_size=0.75, random_state=6)\n",
    "# df = pd.get_dummies(df, columns=['sex'], drop_first=True)\n",
    "\n",
    "ytrain = train[['y']]\n",
    "Xtrain = train.drop('y', axis=1)\n",
    "Xtrain = sm.add_constant(Xtrain)\n",
    "log_reg = sm.Logit(ytrain, Xtrain).fit()\n",
    "\n",
    "Xtest = test.drop('y', axis=1)\n",
    "Xtest = sm.add_constant(Xtest)\n",
    "\n",
    "yhat = log_reg.predict(Xtest)\n",
    "prediction = list(map(round, yhat))\n",
    "print(log_reg.summary())\n",
    "\n",
    "# confusion matrix\n",
    "cm = confusion_matrix( test[['y']], prediction) \n",
    "print (\"Confusion Matrix : \\n\", cm) \n",
    "# accuracy score of the model\n",
    "\n",
    "yhat = log_reg.predict(Xtrain)\n",
    "train_prediction = list(map(round, yhat))\n",
    "report = classification_report(test[['y']], prediction, target_names=['Low', 'High'], output_dict=True)\n",
    "\n",
    "# accuracy score of the model\n",
    "print('Train accuracy = ', accuracy_score( train[['y']], train_prediction))\n",
    "print('Test accuracy = ', accuracy_score( test[['y']], prediction))"
   ]
  },
  {
   "cell_type": "code",
   "execution_count": null,
   "id": "59bb6406",
   "metadata": {},
   "outputs": [],
   "source": [
    "col = ['family']\n",
    "train, test = preprosessing(col, size=4000, seed=3, split=True, train_size=0.75, random_state=6)"
   ]
  },
  {
   "cell_type": "code",
   "execution_count": null,
   "metadata": {},
   "outputs": [],
   "source": []
  },
  {
   "cell_type": "code",
   "execution_count": 38,
   "id": "a2f0952f",
   "metadata": {},
   "outputs": [],
   "source": [
    "test = pd.read_csv(\"./data/new-aggr-all.csv\")\n"
   ]
  },
  {
   "cell_type": "code",
   "execution_count": null,
   "id": "39daa6ed",
   "metadata": {},
   "outputs": [],
   "source": []
  }
 ],
 "metadata": {
  "interpreter": {
   "hash": "265b5a5d0f192aef45d901f2312fe39db7875761fa0b6a378260321177d7880c"
  },
  "kernelspec": {
   "display_name": "Python 3 (ipykernel)",
   "language": "python",
   "name": "python3"
  },
  "language_info": {
   "codemirror_mode": {
    "name": "ipython",
    "version": 3
   },
   "file_extension": ".py",
   "mimetype": "text/x-python",
   "name": "python",
   "nbconvert_exporter": "python",
   "pygments_lexer": "ipython3",
   "version": "3.9.7"
  }
 },
 "nbformat": 4,
 "nbformat_minor": 5
}
